{
 "cells": [
  {
   "cell_type": "markdown",
   "id": "d28a2427",
   "metadata": {},
   "source": [
    "# Project: Finding Heavy Trucks Indicators on I-94\n",
    "\n",
    "I-94 is is an east–west Interstate Highway connecting the Great Lakes and northern Great Plains regions of the United States.\n",
    "The project aims to determine a few indicators of heavy traffic on I-94. These indicators can be weather type, time of the day, time of the week, etc. For instance, we may find out that the traffic is usually heavier in the summer or when it snows.\n",
    "\n",
    "The dataset used in this project is based on data collected from Hourly Minneapolis-St Paul, MN traffic volume for westbound I-94 (from east to west). Includes weather and holiday features from 2012-2018.\n"
   ]
  },
  {
   "cell_type": "code",
   "execution_count": 1,
   "id": "7101fc9b",
   "metadata": {},
   "outputs": [
    {
     "data": {
      "text/html": [
       "<div>\n",
       "<style scoped>\n",
       "    .dataframe tbody tr th:only-of-type {\n",
       "        vertical-align: middle;\n",
       "    }\n",
       "\n",
       "    .dataframe tbody tr th {\n",
       "        vertical-align: top;\n",
       "    }\n",
       "\n",
       "    .dataframe thead th {\n",
       "        text-align: right;\n",
       "    }\n",
       "</style>\n",
       "<table border=\"1\" class=\"dataframe\">\n",
       "  <thead>\n",
       "    <tr style=\"text-align: right;\">\n",
       "      <th></th>\n",
       "      <th>holiday</th>\n",
       "      <th>temp</th>\n",
       "      <th>rain_1h</th>\n",
       "      <th>snow_1h</th>\n",
       "      <th>clouds_all</th>\n",
       "      <th>weather_main</th>\n",
       "      <th>weather_description</th>\n",
       "      <th>date_time</th>\n",
       "      <th>traffic_volume</th>\n",
       "    </tr>\n",
       "  </thead>\n",
       "  <tbody>\n",
       "    <tr>\n",
       "      <th>0</th>\n",
       "      <td>None</td>\n",
       "      <td>288.28</td>\n",
       "      <td>0.0</td>\n",
       "      <td>0.0</td>\n",
       "      <td>40</td>\n",
       "      <td>Clouds</td>\n",
       "      <td>scattered clouds</td>\n",
       "      <td>2012-10-02 09:00:00</td>\n",
       "      <td>5545</td>\n",
       "    </tr>\n",
       "    <tr>\n",
       "      <th>1</th>\n",
       "      <td>None</td>\n",
       "      <td>289.36</td>\n",
       "      <td>0.0</td>\n",
       "      <td>0.0</td>\n",
       "      <td>75</td>\n",
       "      <td>Clouds</td>\n",
       "      <td>broken clouds</td>\n",
       "      <td>2012-10-02 10:00:00</td>\n",
       "      <td>4516</td>\n",
       "    </tr>\n",
       "    <tr>\n",
       "      <th>2</th>\n",
       "      <td>None</td>\n",
       "      <td>289.58</td>\n",
       "      <td>0.0</td>\n",
       "      <td>0.0</td>\n",
       "      <td>90</td>\n",
       "      <td>Clouds</td>\n",
       "      <td>overcast clouds</td>\n",
       "      <td>2012-10-02 11:00:00</td>\n",
       "      <td>4767</td>\n",
       "    </tr>\n",
       "    <tr>\n",
       "      <th>3</th>\n",
       "      <td>None</td>\n",
       "      <td>290.13</td>\n",
       "      <td>0.0</td>\n",
       "      <td>0.0</td>\n",
       "      <td>90</td>\n",
       "      <td>Clouds</td>\n",
       "      <td>overcast clouds</td>\n",
       "      <td>2012-10-02 12:00:00</td>\n",
       "      <td>5026</td>\n",
       "    </tr>\n",
       "    <tr>\n",
       "      <th>4</th>\n",
       "      <td>None</td>\n",
       "      <td>291.14</td>\n",
       "      <td>0.0</td>\n",
       "      <td>0.0</td>\n",
       "      <td>75</td>\n",
       "      <td>Clouds</td>\n",
       "      <td>broken clouds</td>\n",
       "      <td>2012-10-02 13:00:00</td>\n",
       "      <td>4918</td>\n",
       "    </tr>\n",
       "  </tbody>\n",
       "</table>\n",
       "</div>"
      ],
      "text/plain": [
       "  holiday    temp  rain_1h  snow_1h  clouds_all weather_main  \\\n",
       "0    None  288.28      0.0      0.0          40       Clouds   \n",
       "1    None  289.36      0.0      0.0          75       Clouds   \n",
       "2    None  289.58      0.0      0.0          90       Clouds   \n",
       "3    None  290.13      0.0      0.0          90       Clouds   \n",
       "4    None  291.14      0.0      0.0          75       Clouds   \n",
       "\n",
       "  weather_description            date_time  traffic_volume  \n",
       "0    scattered clouds  2012-10-02 09:00:00            5545  \n",
       "1       broken clouds  2012-10-02 10:00:00            4516  \n",
       "2     overcast clouds  2012-10-02 11:00:00            4767  \n",
       "3     overcast clouds  2012-10-02 12:00:00            5026  \n",
       "4       broken clouds  2012-10-02 13:00:00            4918  "
      ]
     },
     "execution_count": 1,
     "metadata": {},
     "output_type": "execute_result"
    }
   ],
   "source": [
    "#Importing pandas library and exploring the first and the last 5 rows of the dataset\n",
    "\n",
    "import pandas as pd\n",
    "i_94 = pd.read_csv('Metro_Interstate_Traffic_Volume.csv')\n",
    "i_94.head(5)"
   ]
  },
  {
   "cell_type": "code",
   "execution_count": 2,
   "id": "73b8fcd4",
   "metadata": {},
   "outputs": [
    {
     "data": {
      "text/html": [
       "<div>\n",
       "<style scoped>\n",
       "    .dataframe tbody tr th:only-of-type {\n",
       "        vertical-align: middle;\n",
       "    }\n",
       "\n",
       "    .dataframe tbody tr th {\n",
       "        vertical-align: top;\n",
       "    }\n",
       "\n",
       "    .dataframe thead th {\n",
       "        text-align: right;\n",
       "    }\n",
       "</style>\n",
       "<table border=\"1\" class=\"dataframe\">\n",
       "  <thead>\n",
       "    <tr style=\"text-align: right;\">\n",
       "      <th></th>\n",
       "      <th>holiday</th>\n",
       "      <th>temp</th>\n",
       "      <th>rain_1h</th>\n",
       "      <th>snow_1h</th>\n",
       "      <th>clouds_all</th>\n",
       "      <th>weather_main</th>\n",
       "      <th>weather_description</th>\n",
       "      <th>date_time</th>\n",
       "      <th>traffic_volume</th>\n",
       "    </tr>\n",
       "  </thead>\n",
       "  <tbody>\n",
       "    <tr>\n",
       "      <th>48199</th>\n",
       "      <td>None</td>\n",
       "      <td>283.45</td>\n",
       "      <td>0.0</td>\n",
       "      <td>0.0</td>\n",
       "      <td>75</td>\n",
       "      <td>Clouds</td>\n",
       "      <td>broken clouds</td>\n",
       "      <td>2018-09-30 19:00:00</td>\n",
       "      <td>3543</td>\n",
       "    </tr>\n",
       "    <tr>\n",
       "      <th>48200</th>\n",
       "      <td>None</td>\n",
       "      <td>282.76</td>\n",
       "      <td>0.0</td>\n",
       "      <td>0.0</td>\n",
       "      <td>90</td>\n",
       "      <td>Clouds</td>\n",
       "      <td>overcast clouds</td>\n",
       "      <td>2018-09-30 20:00:00</td>\n",
       "      <td>2781</td>\n",
       "    </tr>\n",
       "    <tr>\n",
       "      <th>48201</th>\n",
       "      <td>None</td>\n",
       "      <td>282.73</td>\n",
       "      <td>0.0</td>\n",
       "      <td>0.0</td>\n",
       "      <td>90</td>\n",
       "      <td>Thunderstorm</td>\n",
       "      <td>proximity thunderstorm</td>\n",
       "      <td>2018-09-30 21:00:00</td>\n",
       "      <td>2159</td>\n",
       "    </tr>\n",
       "    <tr>\n",
       "      <th>48202</th>\n",
       "      <td>None</td>\n",
       "      <td>282.09</td>\n",
       "      <td>0.0</td>\n",
       "      <td>0.0</td>\n",
       "      <td>90</td>\n",
       "      <td>Clouds</td>\n",
       "      <td>overcast clouds</td>\n",
       "      <td>2018-09-30 22:00:00</td>\n",
       "      <td>1450</td>\n",
       "    </tr>\n",
       "    <tr>\n",
       "      <th>48203</th>\n",
       "      <td>None</td>\n",
       "      <td>282.12</td>\n",
       "      <td>0.0</td>\n",
       "      <td>0.0</td>\n",
       "      <td>90</td>\n",
       "      <td>Clouds</td>\n",
       "      <td>overcast clouds</td>\n",
       "      <td>2018-09-30 23:00:00</td>\n",
       "      <td>954</td>\n",
       "    </tr>\n",
       "  </tbody>\n",
       "</table>\n",
       "</div>"
      ],
      "text/plain": [
       "      holiday    temp  rain_1h  snow_1h  clouds_all  weather_main  \\\n",
       "48199    None  283.45      0.0      0.0          75        Clouds   \n",
       "48200    None  282.76      0.0      0.0          90        Clouds   \n",
       "48201    None  282.73      0.0      0.0          90  Thunderstorm   \n",
       "48202    None  282.09      0.0      0.0          90        Clouds   \n",
       "48203    None  282.12      0.0      0.0          90        Clouds   \n",
       "\n",
       "          weather_description            date_time  traffic_volume  \n",
       "48199           broken clouds  2018-09-30 19:00:00            3543  \n",
       "48200         overcast clouds  2018-09-30 20:00:00            2781  \n",
       "48201  proximity thunderstorm  2018-09-30 21:00:00            2159  \n",
       "48202         overcast clouds  2018-09-30 22:00:00            1450  \n",
       "48203         overcast clouds  2018-09-30 23:00:00             954  "
      ]
     },
     "execution_count": 2,
     "metadata": {},
     "output_type": "execute_result"
    }
   ],
   "source": [
    "i_94.tail(5)"
   ]
  },
  {
   "cell_type": "code",
   "execution_count": 3,
   "id": "bc181cbb",
   "metadata": {},
   "outputs": [
    {
     "name": "stdout",
     "output_type": "stream",
     "text": [
      "<class 'pandas.core.frame.DataFrame'>\n",
      "RangeIndex: 48204 entries, 0 to 48203\n",
      "Data columns (total 9 columns):\n",
      " #   Column               Non-Null Count  Dtype  \n",
      "---  ------               --------------  -----  \n",
      " 0   holiday              48204 non-null  object \n",
      " 1   temp                 48204 non-null  float64\n",
      " 2   rain_1h              48204 non-null  float64\n",
      " 3   snow_1h              48204 non-null  float64\n",
      " 4   clouds_all           48204 non-null  int64  \n",
      " 5   weather_main         48204 non-null  object \n",
      " 6   weather_description  48204 non-null  object \n",
      " 7   date_time            48204 non-null  object \n",
      " 8   traffic_volume       48204 non-null  int64  \n",
      "dtypes: float64(3), int64(2), object(4)\n",
      "memory usage: 3.3+ MB\n"
     ]
    }
   ],
   "source": [
    "i_94.info()"
   ]
  },
  {
   "cell_type": "code",
   "execution_count": 4,
   "id": "17b9f04d",
   "metadata": {},
   "outputs": [
    {
     "data": {
      "image/png": "[encoded data removed]",
      "text/plain": [
       "<Figure size 432x288 with 1 Axes>"
      ]
     },
     "metadata": {
      "needs_background": "light"
     },
     "output_type": "display_data"
    },
    {
     "data": {
      "text/plain": [
       "count    48204.000000\n",
       "mean      3259.818355\n",
       "std       1986.860670\n",
       "min          0.000000\n",
       "25%       1193.000000\n",
       "50%       3380.000000\n",
       "75%       4933.000000\n",
       "max       7280.000000\n",
       "Name: traffic_volume, dtype: float64"
      ]
     },
     "execution_count": 4,
     "metadata": {},
     "output_type": "execute_result"
    }
   ],
   "source": [
    "import matplotlib.pyplot as plt\n",
    "%matplotlib inline\n",
    "\n",
    "i_94.hist('traffic_volume')\n",
    "plt.show()\n",
    "\n",
    "i_94['traffic_volume'].describe()"
   ]
  },
  {
   "cell_type": "markdown",
   "id": "25d27ebd",
   "metadata": {},
   "source": [
    "* About 25% of the time, there were 1,193 cars or fewer passing the station each hour — this probably occurs during the night, or when a road is under construction.\n",
    "* About 25% of the time, the traffic volume was four times as much (4,933 cars or more).\n",
    "\n",
    "The reason behind this variation in the traffic volumes might be caused by the date timing, so deviding the data into two parts (daytime, nighttime) might gives the data an intersting direction. This direction is a comparison between daytime and nighttime data."
   ]
  },
  {
   "cell_type": "markdown",
   "id": "4f20f759",
   "metadata": {},
   "source": [
    "## Day Time VS Night Time"
   ]
  },
  {
   "cell_type": "code",
   "execution_count": 5,
   "id": "b48cdc1b",
   "metadata": {},
   "outputs": [],
   "source": [
    "# Transferring the date_time column to datetime:\n",
    "\n",
    "i_94['date_time'] = pd.to_datetime(i_94['date_time'])\n",
    "\n",
    "daytime_data = i_94[(i_94['date_time'].dt.hour >= 7) & (i_94['date_time'].dt.hour < 19)]\n",
    "nighttime_data = i_94[(i_94['date_time'].dt.hour >=19) | (i_94['date_time'].dt.hour < 7)]\n"
   ]
  },
  {
   "cell_type": "code",
   "execution_count": 6,
   "id": "04df4d53",
   "metadata": {},
   "outputs": [
    {
     "data": {
      "image/png": "[encoded data removed]",
      "text/plain": [
       "<Figure size 792x252 with 2 Axes>"
      ]
     },
     "metadata": {
      "needs_background": "light"
     },
     "output_type": "display_data"
    }
   ],
   "source": [
    "# Visualizing the data\n",
    "\n",
    "plt.figure(figsize=(11, 3.5))\n",
    "\n",
    "plt.subplot(1, 2, 1)\n",
    "plt.hist(daytime_data['traffic_volume'])\n",
    "plt.title('Traffice Volume: Day Time')\n",
    "plt.xlabel('Traffic Volume')\n",
    "plt.ylabel('Frequency')\n",
    "\n",
    "plt.subplot(1, 2, 2)\n",
    "plt.hist(nighttime_data['traffic_volume'])\n",
    "plt.title('Traffice Volume: Night Time')\n",
    "plt.xlabel('Traffic Volume')\n",
    "plt.ylabel('Frequency')\n",
    "\n",
    "plt.show()"
   ]
  },
  {
   "cell_type": "code",
   "execution_count": 7,
   "id": "436d5509",
   "metadata": {},
   "outputs": [
    {
     "data": {
      "text/plain": [
       "count    23877.000000\n",
       "mean      4762.047452\n",
       "std       1174.546482\n",
       "min          0.000000\n",
       "25%       4252.000000\n",
       "50%       4820.000000\n",
       "75%       5559.000000\n",
       "max       7280.000000\n",
       "Name: traffic_volume, dtype: float64"
      ]
     },
     "execution_count": 7,
     "metadata": {},
     "output_type": "execute_result"
    }
   ],
   "source": [
    "daytime_data['traffic_volume'].describe()"
   ]
  },
  {
   "cell_type": "code",
   "execution_count": 8,
   "id": "47ed31ff",
   "metadata": {},
   "outputs": [
    {
     "data": {
      "text/plain": [
       "count    24327.000000\n",
       "mean      1785.377441\n",
       "std       1441.951197\n",
       "min          0.000000\n",
       "25%        530.000000\n",
       "50%       1287.000000\n",
       "75%       2819.000000\n",
       "max       6386.000000\n",
       "Name: traffic_volume, dtype: float64"
      ]
     },
     "execution_count": 8,
     "metadata": {},
     "output_type": "execute_result"
    }
   ],
   "source": [
    "nighttime_data['traffic_volume'].describe()"
   ]
  },
  {
   "cell_type": "markdown",
   "id": "590ea29d",
   "metadata": {},
   "source": [
    "* According to the grid above, the traffic volume tends to increase in the day time gradually, until it reaches the peak, then it starts to decrease again. Meanwhile, traffic volume tends to decrease during the night hours.\n",
    "\n",
    "* Day time freaquency is almost 4 times the night time.\n",
    "\n",
    "The goel is to find the indicators of heavy traffic, so it is better to only focus on the daytime data moving forward."
   ]
  },
  {
   "cell_type": "markdown",
   "id": "f36809ba",
   "metadata": {},
   "source": [
    "One of the possible indicators of heavy traffic is time. There might be more people on the road in a certain month, on a certain day, or at a certain time of the day.\n",
    "The following parameters will help to look at a few line plots showing how the traffic volume changed:\n",
    "\n",
    "* Month\n",
    "* Day of the week\n",
    "* Time of day"
   ]
  },
  {
   "cell_type": "markdown",
   "id": "79d7e20c",
   "metadata": {},
   "source": [
    "## Traffic Volume by Month"
   ]
  },
  {
   "cell_type": "code",
   "execution_count": 9,
   "id": "5a1d2b46",
   "metadata": {},
   "outputs": [
    {
     "name": "stderr",
     "output_type": "stream",
     "text": [
      "<ipython-input-9-51b386012796>:1: SettingWithCopyWarning: \n",
      "A value is trying to be set on a copy of a slice from a DataFrame.\n",
      "Try using .loc[row_indexer,col_indexer] = value instead\n",
      "\n",
      "See the caveats in the documentation: https://pandas.pydata.org/pandas-docs/stable/user_guide/indexing.html#returning-a-view-versus-a-copy\n",
      "  daytime_data['month'] = daytime_data['date_time'].dt.month\n"
     ]
    },
    {
     "data": {
      "text/plain": [
       "month\n",
       "1     4495.613727\n",
       "2     4711.198394\n",
       "3     4889.409560\n",
       "4     4906.894305\n",
       "5     4911.121609\n",
       "6     4898.019566\n",
       "7     4595.035744\n",
       "8     4928.302035\n",
       "9     4870.783145\n",
       "10    4921.234922\n",
       "11    4704.094319\n",
       "12    4374.834566\n",
       "Name: traffic_volume, dtype: float64"
      ]
     },
     "execution_count": 9,
     "metadata": {},
     "output_type": "execute_result"
    }
   ],
   "source": [
    "daytime_data['month'] = daytime_data['date_time'].dt.month\n",
    "by_month = daytime_data.groupby('month').mean()\n",
    "by_month['traffic_volume']"
   ]
  },
  {
   "cell_type": "code",
   "execution_count": 10,
   "id": "83a11cee",
   "metadata": {},
   "outputs": [
    {
     "data": {
      "image/png": "[encoded data removed]",
      "text/plain": [
       "<Figure size 432x288 with 1 Axes>"
      ]
     },
     "metadata": {
      "needs_background": "light"
     },
     "output_type": "display_data"
    }
   ],
   "source": [
    "plt.plot(by_month)\n",
    "plt.title('Average Change in Traffic Volume by Month')\n",
    "plt.xlabel('Monthly traffic')\n",
    "plt.ylabel('Average Volume')\n",
    "plt.show()\n"
   ]
  },
  {
   "cell_type": "markdown",
   "id": "0a525b30",
   "metadata": {},
   "source": [
    "Traffic volume increases gradually from January till March. starting from March, the volume stablizes till June then starts to drop gradually till July, and starts to increase again in August. the volume almost stablizes in the period from August to October, then it decreases gradually moving forward to December.\n",
    "\n",
    "In general, traffic is heavier during warm months (March - October), and lighter during cold months (November - February)."
   ]
  },
  {
   "cell_type": "markdown",
   "id": "cfda04c8",
   "metadata": {},
   "source": [
    "## Traffic Volume by Day"
   ]
  },
  {
   "cell_type": "code",
   "execution_count": 11,
   "id": "b3c902e7",
   "metadata": {},
   "outputs": [
    {
     "name": "stderr",
     "output_type": "stream",
     "text": [
      "<ipython-input-11-f43c8ba73565>:1: SettingWithCopyWarning: \n",
      "A value is trying to be set on a copy of a slice from a DataFrame.\n",
      "Try using .loc[row_indexer,col_indexer] = value instead\n",
      "\n",
      "See the caveats in the documentation: https://pandas.pydata.org/pandas-docs/stable/user_guide/indexing.html#returning-a-view-versus-a-copy\n",
      "  daytime_data['dayofweek'] = daytime_data['date_time'].dt.dayofweek\n"
     ]
    },
    {
     "data": {
      "text/plain": [
       "dayofweek\n",
       "0    4893.551286\n",
       "1    5189.004782\n",
       "2    5284.454282\n",
       "3    5311.303730\n",
       "4    5291.600829\n",
       "5    3927.249558\n",
       "6    3436.541789\n",
       "Name: traffic_volume, dtype: float64"
      ]
     },
     "execution_count": 11,
     "metadata": {},
     "output_type": "execute_result"
    }
   ],
   "source": [
    "daytime_data['dayofweek'] = daytime_data['date_time'].dt.dayofweek\n",
    "by_day = daytime_data.groupby('dayofweek').mean()\n",
    "by_day['traffic_volume']\n"
   ]
  },
  {
   "cell_type": "code",
   "execution_count": 12,
   "id": "869cd229",
   "metadata": {},
   "outputs": [
    {
     "data": {
      "image/png": "[encoded data removed]",
      "text/plain": [
       "<Figure size 432x288 with 1 Axes>"
      ]
     },
     "metadata": {
      "needs_background": "light"
     },
     "output_type": "display_data"
    }
   ],
   "source": [
    "plt.plot(by_day)\n",
    "plt.title('Average Change in Traffic Volume by Day')\n",
    "plt.xlabel('Daily traffic')\n",
    "plt.ylabel('Average Volume')\n",
    "plt.show()"
   ]
  },
  {
   "cell_type": "markdown",
   "id": "979909a6",
   "metadata": {},
   "source": [
    "The line is almost flat during week days, then it decreases gradually starting from Friday till it reaches the lowest point on Sunday. In other words, traffic volume is significantly heavier on business days compared to the weekends."
   ]
  },
  {
   "cell_type": "markdown",
   "id": "c8adddfe",
   "metadata": {},
   "source": [
    "Weekends will drag down the average values, which will affect the results. So, the best thing to do is to look at the averages separately, by splitting the data based on the day type: business day or weekend."
   ]
  },
  {
   "cell_type": "markdown",
   "id": "6de9560c",
   "metadata": {},
   "source": [
    "## Traffic Volume by Hour"
   ]
  },
  {
   "cell_type": "code",
   "execution_count": 13,
   "id": "ffb0591f",
   "metadata": {
    "scrolled": false
   },
   "outputs": [
    {
     "name": "stdout",
     "output_type": "stream",
     "text": [
      "hour\n",
      "7     6030.413559\n",
      "8     5503.497970\n",
      "9     4895.269257\n",
      "10    4378.419118\n",
      "11    4633.419470\n",
      "12    4855.382143\n",
      "13    4859.180473\n",
      "14    5152.995778\n",
      "15    5592.897768\n",
      "16    6189.473647\n",
      "17    5784.827133\n",
      "18    4434.209431\n",
      "Name: traffic_volume, dtype: float64\n",
      "hour\n",
      "7     1589.365894\n",
      "8     2338.578073\n",
      "9     3111.623917\n",
      "10    3686.632302\n",
      "11    4044.154955\n",
      "12    4372.482883\n",
      "13    4362.296564\n",
      "14    4358.543796\n",
      "15    4342.456881\n",
      "16    4339.693805\n",
      "17    4151.919929\n",
      "18    3811.792279\n",
      "Name: traffic_volume, dtype: float64\n"
     ]
    },
    {
     "name": "stderr",
     "output_type": "stream",
     "text": [
      "<ipython-input-13-75715b0adf0d>:1: SettingWithCopyWarning: \n",
      "A value is trying to be set on a copy of a slice from a DataFrame.\n",
      "Try using .loc[row_indexer,col_indexer] = value instead\n",
      "\n",
      "See the caveats in the documentation: https://pandas.pydata.org/pandas-docs/stable/user_guide/indexing.html#returning-a-view-versus-a-copy\n",
      "  daytime_data['hour'] = daytime_data['date_time'].dt.hour\n"
     ]
    }
   ],
   "source": [
    "daytime_data['hour'] = daytime_data['date_time'].dt.hour\n",
    "business_days = daytime_data.copy()[daytime_data['dayofweek'] <= 4] # 4 == Friday\n",
    "weekend = daytime_data.copy()[daytime_data['dayofweek'] >= 5] # 5 == Saturday\n",
    "by_hour_business = business_days.groupby('hour').mean()\n",
    "by_hour_weekend = weekend.groupby('hour').mean()\n",
    "\n",
    "print(by_hour_business['traffic_volume'])\n",
    "print(by_hour_weekend['traffic_volume'])\n"
   ]
  },
  {
   "cell_type": "code",
   "execution_count": 14,
   "id": "45d5f44a",
   "metadata": {},
   "outputs": [
    {
     "data": {
      "image/png": "[encoded data removed]",
      "text/plain": [
       "<Figure size 864x288 with 2 Axes>"
      ]
     },
     "metadata": {
      "needs_background": "light"
     },
     "output_type": "display_data"
    }
   ],
   "source": [
    "plt.figure(figsize=(12, 4))\n",
    "\n",
    "plt.subplot(1, 2, 1)\n",
    "plt.plot(by_hour_business)\n",
    "plt.title('Change in Traffic by day (Business Days)')\n",
    "plt.xlabel('Hours')\n",
    "plt.ylabel('Avg Volume')\n",
    "\n",
    "plt.subplot(1, 2, 2)\n",
    "plt.plot(by_hour_weekend)\n",
    "plt.title('Change in Traffic by day (Weekends)')\n",
    "plt.xlabel('Hours')\n",
    "plt.ylabel('Avg Volume')\n",
    "\n",
    "plt.show()"
   ]
  },
  {
   "cell_type": "markdown",
   "id": "f17c7b36",
   "metadata": {},
   "source": [
    "looking at business days graph, traffic volume starts from the highst point at 7 am (where most of the employees go to their work) and tends to decrease all the day. Then it starts to increase agin till it reaches the peak at 4 pm, and it decreases again till it reaches its lowest at 6 pm (most probably after employees and students get back to their homes).\n",
    "\n",
    "While in weekends, traffic volume is low at general. Unlike business days, trafiic volume tends to be at its lowest at 7 am, and reaches it peak at 12 pm."
   ]
  },
  {
   "cell_type": "markdown",
   "id": "52f1201b",
   "metadata": {},
   "source": [
    "## Weather Columns"
   ]
  },
  {
   "cell_type": "markdown",
   "id": "e7ae4c79",
   "metadata": {},
   "source": [
    "Another possible indicator of heavy traffic is weather. The dataset provides us with a few useful columns about weather: temp, rain_1h, snow_1h, clouds_all, weather_main, weather_description.\n",
    "\n",
    "A few of these columns are numerical, so it is better to start by looking up their correlation values with traffic_volume."
   ]
  },
  {
   "cell_type": "code",
   "execution_count": 15,
   "id": "a17fe6aa",
   "metadata": {},
   "outputs": [
    {
     "data": {
      "text/plain": [
       "temp              0.128317\n",
       "rain_1h           0.003697\n",
       "snow_1h           0.001265\n",
       "clouds_all       -0.032932\n",
       "traffic_volume    1.000000\n",
       "month            -0.022337\n",
       "dayofweek        -0.416453\n",
       "hour              0.172704\n",
       "Name: traffic_volume, dtype: float64"
      ]
     },
     "execution_count": 15,
     "metadata": {},
     "output_type": "execute_result"
    }
   ],
   "source": [
    "daytime_data.corr()['traffic_volume']"
   ]
  },
  {
   "cell_type": "markdown",
   "id": "0fa11475",
   "metadata": {},
   "source": [
    "The weather columns with the strongest corrolation with traffic volume are temp and clouds_all; however, they don't seem to be reliable indicators for heavy traffic.\n",
    "\n",
    "So, the next step will be looking at categorical weather_related columns (weather_main, weather_description).\n",
    "This requires calculating the average traffic volume associated with each unique value in these two columns."
   ]
  },
  {
   "cell_type": "code",
   "execution_count": 16,
   "id": "d541426f",
   "metadata": {},
   "outputs": [
    {
     "data": {
      "image/png": "[encoded data removed]",
      "text/plain": [
       "<Figure size 432x288 with 1 Axes>"
      ]
     },
     "metadata": {
      "needs_background": "light"
     },
     "output_type": "display_data"
    }
   ],
   "source": [
    "#calculating the average traffic volume:\n",
    "\n",
    "by_weather_main = daytime_data.groupby('weather_main').mean()\n",
    "by_weather_description = daytime_data.groupby('weather_description').mean()\n",
    "\n",
    "#creating a bar plot for the traffic_volume column of by_weather_main\n",
    "\n",
    "by_weather_main['traffic_volume'].plot.barh()\n",
    "plt.title('Weather Main Column VS. Traffic Volume')\n",
    "plt.xlabel('Traffic Volume')\n",
    "plt.ylabel('Weather Main')\n",
    "plt.show()"
   ]
  },
  {
   "cell_type": "markdown",
   "id": "3c074668",
   "metadata": {},
   "source": [
    "Traffic volume doesn't exceed 5,000 at any of the above circumstance, even when the weather is clear. Notably, traffic volume slightly decreases when the weather is squall, snowing or foggy."
   ]
  },
  {
   "cell_type": "code",
   "execution_count": 17,
   "id": "c9026b26",
   "metadata": {
    "scrolled": false
   },
   "outputs": [
    {
     "data": {
      "image/png": "[encoded data removed]",
      "text/plain": [
       "<Figure size 864x864 with 1 Axes>"
      ]
     },
     "metadata": {
      "needs_background": "light"
     },
     "output_type": "display_data"
    }
   ],
   "source": [
    "#creating a bar plot for the traffic_volume column of by_weather_description\n",
    "\n",
    "plt.figure(figsize=(12,12))\n",
    "by_weather_description['traffic_volume'].plot.barh()\n",
    "plt.title('Weather Description Column VS. Traffic Volume')\n",
    "plt.xlabel('Traffic Volume')\n",
    "plt.ylabel('Weather Description')\n",
    "plt.show()"
   ]
  },
  {
   "cell_type": "markdown",
   "id": "91007f0f",
   "metadata": {},
   "source": [
    "Traffic volume exceedes 5,000 when there is:\n",
    "\n",
    "* Shower snow \n",
    "* Light rain \n",
    "* Proximity thunderstorm with drizzle \n",
    "\n",
    "Although these weather types considered bad, traffic volume increases during them, this might be because they are not seriously harmful, or because people prefer to use their vihecles during these circumstances.\n",
    "\n",
    "However, Traffic volume remarkably decreases when there is a thunderstorm with drizzle, which is sensable because people would prefer to stay home while it is raining."
   ]
  },
  {
   "cell_type": "markdown",
   "id": "d559a597",
   "metadata": {},
   "source": [
    "## Conclusion:\n",
    "\n",
    "* Traffic Volume is heavier during warm months (March - October), and lighter during cold months (November - February).\n",
    "* Traffic volume is significantly heavier on business days compared to weekends.\n",
    "* Traffic volume tends to increase in working days at the time employees go to/back from their work, while in weekends it is generally low, but it increases during the day.\n",
    "* Generally, traffic volume is less than 5,000 in different weather types, except for (shower snow, light rain and proximity thunderstorm with drizzle), it exceeds 5,000.\n"
   ]
  }
 ],
 "metadata": {
  "kernelspec": {
   "display_name": "Python 3",
   "language": "python",
   "name": "python3"
  },
  "language_info": {
   "codemirror_mode": {
    "name": "ipython",
    "version": 3
   },
   "file_extension": ".py",
   "mimetype": "text/x-python",
   "name": "python",
   "nbconvert_exporter": "python",
   "pygments_lexer": "ipython3",
   "version": "3.8.8"
  }
 },
 "nbformat": 4,
 "nbformat_minor": 5
}
